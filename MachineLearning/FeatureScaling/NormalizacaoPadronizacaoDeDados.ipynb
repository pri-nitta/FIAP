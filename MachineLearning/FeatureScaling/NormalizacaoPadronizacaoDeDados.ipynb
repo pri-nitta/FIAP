{
 "cells": [
  {
   "cell_type": "code",
   "execution_count": 1,
   "metadata": {},
   "outputs": [
    {
     "data": {
      "text/html": [
       "<div>\n",
       "<style scoped>\n",
       "    .dataframe tbody tr th:only-of-type {\n",
       "        vertical-align: middle;\n",
       "    }\n",
       "\n",
       "    .dataframe tbody tr th {\n",
       "        vertical-align: top;\n",
       "    }\n",
       "\n",
       "    .dataframe thead th {\n",
       "        text-align: right;\n",
       "    }\n",
       "</style>\n",
       "<table border=\"1\" class=\"dataframe\">\n",
       "  <thead>\n",
       "    <tr style=\"text-align: right;\">\n",
       "      <th></th>\n",
       "      <th>RowNumber</th>\n",
       "      <th>CustomerId</th>\n",
       "      <th>Surname</th>\n",
       "      <th>CreditScore</th>\n",
       "      <th>Geography</th>\n",
       "      <th>Gender</th>\n",
       "      <th>Age</th>\n",
       "      <th>Tenure</th>\n",
       "      <th>Balance</th>\n",
       "      <th>NumOfProducts</th>\n",
       "      <th>HasCrCard</th>\n",
       "      <th>IsActiveMember</th>\n",
       "      <th>EstimatedSalary</th>\n",
       "      <th>Exited</th>\n",
       "    </tr>\n",
       "  </thead>\n",
       "  <tbody>\n",
       "    <tr>\n",
       "      <th>0</th>\n",
       "      <td>1</td>\n",
       "      <td>15634602</td>\n",
       "      <td>Hargrave</td>\n",
       "      <td>619</td>\n",
       "      <td>France</td>\n",
       "      <td>Female</td>\n",
       "      <td>42</td>\n",
       "      <td>2</td>\n",
       "      <td>0.00</td>\n",
       "      <td>1</td>\n",
       "      <td>1</td>\n",
       "      <td>1</td>\n",
       "      <td>101348.88</td>\n",
       "      <td>1</td>\n",
       "    </tr>\n",
       "    <tr>\n",
       "      <th>1</th>\n",
       "      <td>2</td>\n",
       "      <td>15647311</td>\n",
       "      <td>Hill</td>\n",
       "      <td>608</td>\n",
       "      <td>Spain</td>\n",
       "      <td>Female</td>\n",
       "      <td>41</td>\n",
       "      <td>1</td>\n",
       "      <td>83807.86</td>\n",
       "      <td>1</td>\n",
       "      <td>0</td>\n",
       "      <td>1</td>\n",
       "      <td>112542.58</td>\n",
       "      <td>0</td>\n",
       "    </tr>\n",
       "    <tr>\n",
       "      <th>2</th>\n",
       "      <td>3</td>\n",
       "      <td>15619304</td>\n",
       "      <td>Onio</td>\n",
       "      <td>502</td>\n",
       "      <td>France</td>\n",
       "      <td>Female</td>\n",
       "      <td>42</td>\n",
       "      <td>8</td>\n",
       "      <td>159660.80</td>\n",
       "      <td>3</td>\n",
       "      <td>1</td>\n",
       "      <td>0</td>\n",
       "      <td>113931.57</td>\n",
       "      <td>1</td>\n",
       "    </tr>\n",
       "    <tr>\n",
       "      <th>3</th>\n",
       "      <td>4</td>\n",
       "      <td>15701354</td>\n",
       "      <td>Boni</td>\n",
       "      <td>699</td>\n",
       "      <td>France</td>\n",
       "      <td>Female</td>\n",
       "      <td>39</td>\n",
       "      <td>1</td>\n",
       "      <td>0.00</td>\n",
       "      <td>2</td>\n",
       "      <td>0</td>\n",
       "      <td>0</td>\n",
       "      <td>93826.63</td>\n",
       "      <td>0</td>\n",
       "    </tr>\n",
       "    <tr>\n",
       "      <th>4</th>\n",
       "      <td>5</td>\n",
       "      <td>15737888</td>\n",
       "      <td>Mitchell</td>\n",
       "      <td>850</td>\n",
       "      <td>Spain</td>\n",
       "      <td>Female</td>\n",
       "      <td>43</td>\n",
       "      <td>2</td>\n",
       "      <td>125510.82</td>\n",
       "      <td>1</td>\n",
       "      <td>1</td>\n",
       "      <td>1</td>\n",
       "      <td>79084.10</td>\n",
       "      <td>0</td>\n",
       "    </tr>\n",
       "  </tbody>\n",
       "</table>\n",
       "</div>"
      ],
      "text/plain": [
       "   RowNumber  CustomerId   Surname  CreditScore Geography  Gender  Age  \\\n",
       "0          1    15634602  Hargrave          619    France  Female   42   \n",
       "1          2    15647311      Hill          608     Spain  Female   41   \n",
       "2          3    15619304      Onio          502    France  Female   42   \n",
       "3          4    15701354      Boni          699    France  Female   39   \n",
       "4          5    15737888  Mitchell          850     Spain  Female   43   \n",
       "\n",
       "   Tenure    Balance  NumOfProducts  HasCrCard  IsActiveMember  \\\n",
       "0       2       0.00              1          1               1   \n",
       "1       1   83807.86              1          0               1   \n",
       "2       8  159660.80              3          1               0   \n",
       "3       1       0.00              2          0               0   \n",
       "4       2  125510.82              1          1               1   \n",
       "\n",
       "   EstimatedSalary  Exited  \n",
       "0        101348.88       1  \n",
       "1        112542.58       0  \n",
       "2        113931.57       1  \n",
       "3         93826.63       0  \n",
       "4         79084.10       0  "
      ]
     },
     "execution_count": 1,
     "metadata": {},
     "output_type": "execute_result"
    }
   ],
   "source": [
    "\n",
    "import pandas as pd\n",
    "\n",
    "df = pd.read_csv(\"Churn_Modelling.csv\", sep=\";\")\n",
    "df.head()"
   ]
  },
  {
   "cell_type": "code",
   "execution_count": 2,
   "metadata": {},
   "outputs": [
    {
     "data": {
      "text/plain": [
       "(9865, 14)"
      ]
     },
     "execution_count": 2,
     "metadata": {},
     "output_type": "execute_result"
    }
   ],
   "source": [
    "df.shape"
   ]
  },
  {
   "cell_type": "code",
   "execution_count": 3,
   "metadata": {},
   "outputs": [
    {
     "data": {
      "image/png": "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",
      "text/plain": [
       "<Figure size 640x480 with 1 Axes>"
      ]
     },
     "metadata": {},
     "output_type": "display_data"
    }
   ],
   "source": [
    "import matplotlib.pyplot as plt\n",
    "\n",
    "plt.boxplot(df['CreditScore'])\n",
    "plt.title('CreditScore')\n",
    "plt.ylabel('Valores')\n",
    "plt.show()"
   ]
  },
  {
   "cell_type": "code",
   "execution_count": 4,
   "metadata": {},
   "outputs": [
    {
     "name": "stdout",
     "output_type": "stream",
     "text": [
      "350\n",
      "850\n"
     ]
    }
   ],
   "source": [
    "print(df['CreditScore'].min())\n",
    "print(df['CreditScore'].max())"
   ]
  },
  {
   "cell_type": "code",
   "execution_count": 5,
   "metadata": {},
   "outputs": [
    {
     "data": {
      "image/png": "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",
      "text/plain": [
       "<Figure size 640x480 with 1 Axes>"
      ]
     },
     "metadata": {},
     "output_type": "display_data"
    }
   ],
   "source": [
    "plt.boxplot(df['Age'])\n",
    "plt.title('Age')\n",
    "plt.ylabel('Valores')\n",
    "plt.show()"
   ]
  },
  {
   "cell_type": "code",
   "execution_count": 6,
   "metadata": {},
   "outputs": [
    {
     "name": "stdout",
     "output_type": "stream",
     "text": [
      "18\n",
      "92\n"
     ]
    }
   ],
   "source": [
    "print(df['Age'].min())\n",
    "print(df['Age'].max())"
   ]
  },
  {
   "cell_type": "code",
   "execution_count": 7,
   "metadata": {},
   "outputs": [
    {
     "data": {
      "image/png": "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",
      "text/plain": [
       "<Figure size 640x480 with 1 Axes>"
      ]
     },
     "metadata": {},
     "output_type": "display_data"
    }
   ],
   "source": [
    "plt.boxplot(df['Tenure'])\n",
    "plt.title('Tenure')\n",
    "plt.ylabel('Valores')\n",
    "plt.show()"
   ]
  },
  {
   "cell_type": "code",
   "execution_count": 8,
   "metadata": {},
   "outputs": [
    {
     "name": "stdout",
     "output_type": "stream",
     "text": [
      "0\n",
      "10\n"
     ]
    }
   ],
   "source": [
    "print(df['Tenure'].min())\n",
    "print(df['Tenure'].max())"
   ]
  },
  {
   "cell_type": "code",
   "execution_count": 9,
   "metadata": {},
   "outputs": [
    {
     "data": {
      "image/png": "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",
      "text/plain": [
       "<Figure size 640x480 with 1 Axes>"
      ]
     },
     "metadata": {},
     "output_type": "display_data"
    }
   ],
   "source": [
    "plt.boxplot(df['Balance'])\n",
    "plt.title('Balance')\n",
    "plt.ylabel('Valores')\n",
    "plt.show()"
   ]
  },
  {
   "cell_type": "code",
   "execution_count": 10,
   "metadata": {},
   "outputs": [
    {
     "name": "stdout",
     "output_type": "stream",
     "text": [
      "0.0\n",
      "250898.09\n"
     ]
    }
   ],
   "source": [
    "print(df['Balance'].min())\n",
    "print(df['Balance'].max())"
   ]
  },
  {
   "cell_type": "code",
   "execution_count": 11,
   "metadata": {},
   "outputs": [
    {
     "data": {
      "image/png": "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",
      "text/plain": [
       "<Figure size 640x480 with 1 Axes>"
      ]
     },
     "metadata": {},
     "output_type": "display_data"
    }
   ],
   "source": [
    "plt.boxplot(df['NumOfProducts'])\n",
    "plt.title('NumOfProducts')\n",
    "plt.ylabel('Valores')\n",
    "plt.show()"
   ]
  },
  {
   "cell_type": "code",
   "execution_count": 12,
   "metadata": {},
   "outputs": [
    {
     "name": "stdout",
     "output_type": "stream",
     "text": [
      "1\n",
      "4\n"
     ]
    }
   ],
   "source": [
    "print(df['NumOfProducts'].min())\n",
    "print(df['NumOfProducts'].max())"
   ]
  },
  {
   "cell_type": "code",
   "execution_count": 13,
   "metadata": {},
   "outputs": [
    {
     "data": {
      "image/png": "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",
      "text/plain": [
       "<Figure size 640x480 with 1 Axes>"
      ]
     },
     "metadata": {},
     "output_type": "display_data"
    }
   ],
   "source": [
    "plt.boxplot(df['EstimatedSalary'])\n",
    "plt.title('EstimatedSalary')\n",
    "plt.ylabel('Valores')\n",
    "plt.show()"
   ]
  },
  {
   "cell_type": "code",
   "execution_count": 14,
   "metadata": {},
   "outputs": [
    {
     "name": "stdout",
     "output_type": "stream",
     "text": [
      "11.58\n",
      "199992.48\n"
     ]
    }
   ],
   "source": [
    "print(df['EstimatedSalary'].min())\n",
    "print(df['EstimatedSalary'].max())"
   ]
<<<<<<< HEAD
  },
  {
   "cell_type": "code",
   "execution_count": 15,
   "metadata": {},
   "outputs": [
    {
     "data": {
      "text/html": [
       "<div>\n",
       "<style scoped>\n",
       "    .dataframe tbody tr th:only-of-type {\n",
       "        vertical-align: middle;\n",
       "    }\n",
       "\n",
       "    .dataframe tbody tr th {\n",
       "        vertical-align: top;\n",
       "    }\n",
       "\n",
       "    .dataframe thead th {\n",
       "        text-align: right;\n",
       "    }\n",
       "</style>\n",
       "<table border=\"1\" class=\"dataframe\">\n",
       "  <thead>\n",
       "    <tr style=\"text-align: right;\">\n",
       "      <th></th>\n",
       "      <th>RowNumber</th>\n",
       "      <th>CustomerId</th>\n",
       "      <th>Surname</th>\n",
       "      <th>CreditScore</th>\n",
       "      <th>Geography</th>\n",
       "      <th>Gender</th>\n",
       "      <th>Age</th>\n",
       "      <th>Tenure</th>\n",
       "      <th>Balance</th>\n",
       "      <th>NumOfProducts</th>\n",
       "      <th>HasCrCard</th>\n",
       "      <th>IsActiveMember</th>\n",
       "      <th>EstimatedSalary</th>\n",
       "      <th>Exited</th>\n",
       "    </tr>\n",
       "  </thead>\n",
       "  <tbody>\n",
       "    <tr>\n",
       "      <th>0</th>\n",
       "      <td>1</td>\n",
       "      <td>15634602</td>\n",
       "      <td>1111</td>\n",
       "      <td>619</td>\n",
       "      <td>0</td>\n",
       "      <td>0</td>\n",
       "      <td>42</td>\n",
       "      <td>2</td>\n",
       "      <td>0.00</td>\n",
       "      <td>1</td>\n",
       "      <td>1</td>\n",
       "      <td>1</td>\n",
       "      <td>101348.88</td>\n",
       "      <td>1</td>\n",
       "    </tr>\n",
       "    <tr>\n",
       "      <th>1</th>\n",
       "      <td>2</td>\n",
       "      <td>15647311</td>\n",
       "      <td>1173</td>\n",
       "      <td>608</td>\n",
       "      <td>2</td>\n",
       "      <td>0</td>\n",
       "      <td>41</td>\n",
       "      <td>1</td>\n",
       "      <td>83807.86</td>\n",
       "      <td>1</td>\n",
       "      <td>0</td>\n",
       "      <td>1</td>\n",
       "      <td>112542.58</td>\n",
       "      <td>0</td>\n",
       "    </tr>\n",
       "    <tr>\n",
       "      <th>2</th>\n",
       "      <td>3</td>\n",
       "      <td>15619304</td>\n",
       "      <td>2032</td>\n",
       "      <td>502</td>\n",
       "      <td>0</td>\n",
       "      <td>0</td>\n",
       "      <td>42</td>\n",
       "      <td>8</td>\n",
       "      <td>159660.80</td>\n",
       "      <td>3</td>\n",
       "      <td>1</td>\n",
       "      <td>0</td>\n",
       "      <td>113931.57</td>\n",
       "      <td>1</td>\n",
       "    </tr>\n",
       "    <tr>\n",
       "      <th>3</th>\n",
       "      <td>4</td>\n",
       "      <td>15701354</td>\n",
       "      <td>289</td>\n",
       "      <td>699</td>\n",
       "      <td>0</td>\n",
       "      <td>0</td>\n",
       "      <td>39</td>\n",
       "      <td>1</td>\n",
       "      <td>0.00</td>\n",
       "      <td>2</td>\n",
       "      <td>0</td>\n",
       "      <td>0</td>\n",
       "      <td>93826.63</td>\n",
       "      <td>0</td>\n",
       "    </tr>\n",
       "    <tr>\n",
       "      <th>4</th>\n",
       "      <td>5</td>\n",
       "      <td>15737888</td>\n",
       "      <td>1816</td>\n",
       "      <td>850</td>\n",
       "      <td>2</td>\n",
       "      <td>0</td>\n",
       "      <td>43</td>\n",
       "      <td>2</td>\n",
       "      <td>125510.82</td>\n",
       "      <td>1</td>\n",
       "      <td>1</td>\n",
       "      <td>1</td>\n",
       "      <td>79084.10</td>\n",
       "      <td>0</td>\n",
       "    </tr>\n",
       "  </tbody>\n",
       "</table>\n",
       "</div>"
      ],
      "text/plain": [
       "   RowNumber  CustomerId  Surname  CreditScore  Geography  Gender  Age  \\\n",
       "0          1    15634602     1111          619          0       0   42   \n",
       "1          2    15647311     1173          608          2       0   41   \n",
       "2          3    15619304     2032          502          0       0   42   \n",
       "3          4    15701354      289          699          0       0   39   \n",
       "4          5    15737888     1816          850          2       0   43   \n",
       "\n",
       "   Tenure    Balance  NumOfProducts  HasCrCard  IsActiveMember  \\\n",
       "0       2       0.00              1          1               1   \n",
       "1       1   83807.86              1          0               1   \n",
       "2       8  159660.80              3          1               0   \n",
       "3       1       0.00              2          0               0   \n",
       "4       2  125510.82              1          1               1   \n",
       "\n",
       "   EstimatedSalary  Exited  \n",
       "0        101348.88       1  \n",
       "1        112542.58       0  \n",
       "2        113931.57       1  \n",
       "3         93826.63       0  \n",
       "4         79084.10       0  "
      ]
     },
     "execution_count": 15,
     "metadata": {},
     "output_type": "execute_result"
    }
   ],
   "source": [
    "from sklearn.preprocessing import LabelEncoder\n",
    "\n",
    "label_encoder = LabelEncoder()\n",
    "\n",
    "df['Surname'] = label_encoder.fit_transform(df['Surname'])\n",
    "df['Geography'] = label_encoder.fit_transform(df['Geography'])\n",
    "df['Gender'] = label_encoder.fit_transform(df['Gender'])\n",
    "\n",
    "df.head()"
   ]
  },
  {
   "cell_type": "code",
   "execution_count": 16,
   "metadata": {},
   "outputs": [],
   "source": [
    "from sklearn.model_selection import train_test_split\n",
    "\n",
    "X = df.drop(columns=['Exited']) \n",
    "y = df['Exited'] \n",
    "\n",
    "X_train, X_test, y_train, y_test = train_test_split(X, y, test_size=0.2, random_state=42)"
   ]
  },
  {
   "cell_type": "code",
   "execution_count": 17,
   "metadata": {},
   "outputs": [],
   "source": [
    "from sklearn.preprocessing import StandardScaler, MinMaxScaler"
   ]
  },
  {
   "cell_type": "code",
   "execution_count": 19,
   "metadata": {},
   "outputs": [
    {
     "data": {
      "text/plain": [
       "array([[0.35201121, 0.11669547, 0.88507719, ..., 1.        , 0.        ,\n",
       "        0.34768845],\n",
       "       [0.60456274, 0.78062996, 0.35849057, ..., 1.        , 0.        ,\n",
       "        0.46923837],\n",
       "       [0.89393636, 0.07744496, 0.17495712, ..., 0.        , 1.        ,\n",
       "        0.56001428],\n",
       "       ...,\n",
       "       [0.53922353, 0.03258209, 0.5626072 , ..., 0.        , 0.        ,\n",
       "        0.46092526],\n",
       "       [0.08595157, 0.96788994, 0.59691252, ..., 1.        , 0.        ,\n",
       "        0.48738065],\n",
       "       [0.7273364 , 0.56228399, 0.84425386, ..., 1.        , 1.        ,\n",
       "        0.26761502]])"
      ]
     },
     "execution_count": 19,
     "metadata": {},
     "output_type": "execute_result"
    }
   ],
   "source": [
    "scaler = MinMaxScaler()\n",
    "scaler.fit(X_train)\n",
    "\n",
    "x_train_min_max_scaled = scaler.transform(X_train)\n",
    "x_test_min_max_scaled= scaler.transform(X_test)\n",
    "x_train_min_max_scaled"
   ]
  },
  {
   "cell_type": "code",
   "execution_count": 20,
   "metadata": {},
   "outputs": [
    {
     "data": {
      "text/plain": [
       "array([[-0.50073964, -1.33102082,  1.28295781, ...,  0.64920701,\n",
       "        -1.04034701, -0.53624445],\n",
       "       [ 0.38340744,  0.98483691, -0.54107698, ...,  0.64920701,\n",
       "        -1.04034701, -0.11539063],\n",
       "       [ 1.39646344, -1.46792981, -1.17681548, ..., -1.54034073,\n",
       "         0.96121774,  0.19891141],\n",
       "       ...,\n",
       "       [ 0.15466416, -1.62441517,  0.16595931, ..., -1.54034073,\n",
       "        -1.04034701, -0.1441739 ],\n",
       "       [-1.43217667,  1.63801503,  0.28478893, ...,  0.64920701,\n",
       "        -1.04034701, -0.05257492],\n",
       "       [ 0.81322062,  0.22322832,  1.14155055, ...,  0.64920701,\n",
       "         0.96121774, -0.81349026]])"
      ]
     },
     "execution_count": 20,
     "metadata": {},
     "output_type": "execute_result"
    }
   ],
   "source": [
    "scaler = StandardScaler() #sensível à outliers\n",
    "scaler.fit(X_train)\n",
    "\n",
    "x_train_standard_scaled = scaler.transform(X_train)\n",
    "x_test_standard_scaled  = scaler.transform(X_test)\n",
    "\n",
    "x_train_standard_scaled"
   ]
  },
  {
   "cell_type": "code",
   "execution_count": 21,
   "metadata": {},
   "outputs": [],
   "source": [
    "from sklearn.neighbors import KNeighborsClassifier"
   ]
  },
  {
   "cell_type": "code",
   "execution_count": 22,
   "metadata": {},
   "outputs": [],
   "source": [
    "model = KNeighborsClassifier(n_neighbors=3)\n",
    "\n",
    "model.fit(X_train, y_train)\n",
    "\n",
    "y_pred = model.predict(X_test)"
   ]
  },
  {
   "cell_type": "code",
   "execution_count": 23,
   "metadata": {},
   "outputs": [
    {
     "name": "stdout",
     "output_type": "stream",
     "text": [
      "Acurácia: 0.76\n"
     ]
    }
   ],
   "source": [
    "from sklearn.metrics import accuracy_score\n",
    "\n",
    "accuracy = accuracy_score(y_test, y_pred)\n",
    "print(f'Acurácia: {accuracy:.2f}')"
   ]
  },
  {
   "cell_type": "code",
   "execution_count": 24,
   "metadata": {},
   "outputs": [
    {
     "name": "stdout",
     "output_type": "stream",
     "text": [
      "Acurácia: 0.81\n"
     ]
    },
    {
     "name": "stderr",
     "output_type": "stream",
     "text": [
      "C:\\Users\\vntprni\\AppData\\Local\\Packages\\PythonSoftwareFoundation.Python.3.12_qbz5n2kfra8p0\\LocalCache\\local-packages\\Python312\\site-packages\\sklearn\\base.py:493: UserWarning: X does not have valid feature names, but KNeighborsClassifier was fitted with feature names\n",
      "  warnings.warn(\n"
     ]
    }
   ],
   "source": [
    "model_min_max = KNeighborsClassifier(n_neighbors=3)\n",
    "\n",
    "model_min_max.fit(x_train_min_max_scaled, y_train)\n",
    "\n",
    "y_pred_min_max = model.predict(x_test_min_max_scaled)\n",
    "\n",
    "accuracy_min_max = accuracy_score(y_test, y_pred_min_max)\n",
    "print(f'Acurácia: {accuracy_min_max:.2f}')"
   ]
  },
  {
   "cell_type": "code",
   "execution_count": 25,
   "metadata": {},
   "outputs": [
    {
     "name": "stdout",
     "output_type": "stream",
     "text": [
      "Acurácia: 0.81\n"
     ]
    },
    {
     "name": "stderr",
     "output_type": "stream",
     "text": [
      "C:\\Users\\vntprni\\AppData\\Local\\Packages\\PythonSoftwareFoundation.Python.3.12_qbz5n2kfra8p0\\LocalCache\\local-packages\\Python312\\site-packages\\sklearn\\base.py:493: UserWarning: X does not have valid feature names, but KNeighborsClassifier was fitted with feature names\n",
      "  warnings.warn(\n"
     ]
    }
   ],
   "source": [
    "model_standard = KNeighborsClassifier(n_neighbors=3)\n",
    "\n",
    "model_standard.fit(x_train_standard_scaled, y_train)\n",
    "y_pred_standard = model.predict(x_test_standard_scaled)\n",
    "\n",
    "accuracy_strandard = accuracy_score(y_test, y_pred_standard)\n",
    "print(f'Acurácia: {accuracy_strandard:.2f}')"
   ]
=======
>>>>>>> ae66b5ca872f02c25caa25f99f3036a486c5af77
  }
 ],
 "metadata": {
  "kernelspec": {
   "display_name": "Python 3",
   "language": "python",
   "name": "python3"
  },
  "language_info": {
   "codemirror_mode": {
    "name": "ipython",
    "version": 3
   },
   "file_extension": ".py",
   "mimetype": "text/x-python",
   "name": "python",
   "nbconvert_exporter": "python",
   "pygments_lexer": "ipython3",
   "version": "3.12.4"
  }
 },
 "nbformat": 4,
 "nbformat_minor": 2
}

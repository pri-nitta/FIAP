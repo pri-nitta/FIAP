from sklearn import datasets
import pandas as pd
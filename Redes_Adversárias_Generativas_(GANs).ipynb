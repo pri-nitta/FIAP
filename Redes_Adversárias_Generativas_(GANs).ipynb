{
  "nbformat": 4,
  "nbformat_minor": 0,
  "metadata": {
    "colab": {
      "provenance": [],
      "authorship_tag": "ABX9TyPLoatek3+svvZCcjmo+tcw",
      "include_colab_link": true
    },
    "kernelspec": {
      "name": "python3",
      "display_name": "Python 3"
    },
    "language_info": {
      "name": "python"
    }
  },
  "cells": [
    {
      "cell_type": "markdown",
      "metadata": {
        "id": "view-in-github",
        "colab_type": "text"
      },
      "source": [
        "<a href=\"https://colab.research.google.com/github/pri-nitta/FIAP_IA/blob/main/Redes_Advers%C3%A1rias_Generativas_(GANs).ipynb\" target=\"_parent\"><img src=\"https://colab.research.google.com/assets/colab-badge.svg\" alt=\"Open In Colab\"/></a>"
      ]
    },
    {
      "cell_type": "code",
      "execution_count": 1,
      "metadata": {
        "colab": {
          "base_uri": "https://localhost:8080/",
          "height": 35
        },
        "id": "BZgk5BL3K7Kl",
        "outputId": "184f7b90-fc41-4f1e-dbcb-3610536deec3"
      },
      "outputs": [
        {
          "output_type": "execute_result",
          "data": {
            "text/plain": [
              "'2.17.1'"
            ],
            "application/vnd.google.colaboratory.intrinsic+json": {
              "type": "string"
            }
          },
          "metadata": {},
          "execution_count": 1
        }
      ],
      "source": [
        "import tensorflow as tf\n",
        "tf.__version__"
      ]
    },
    {
      "cell_type": "code",
      "source": [
        "import os\n",
        "import glob #gerar gif\n",
        "import imageio #gerar gif\n",
        "import matplotlib.pyplot as plt # gerar gráficos\n",
        "import numpy as np # trabalhar com arrays\n",
        "import PIL # manipular imagens\n",
        "import tensorflow as tf\n",
        "from tensorflow.keras import layers\n",
        "from tensorflow.keras.models import Sequential\n",
        "from tensorflow.keras.layers import Dense, BatchNormalization\n",
        "import time\n",
        "\n",
        "from IPython import display"
      ],
      "metadata": {
        "id": "WImAPfelQauf"
      },
      "execution_count": 8,
      "outputs": []
    },
    {
      "cell_type": "code",
      "source": [
        "(train_images, train_labels), (_,_) = tf.keras.datasets.mnist.load_data()"
      ],
      "metadata": {
        "colab": {
          "base_uri": "https://localhost:8080/"
        },
        "id": "xe6YaZWgQliH",
        "outputId": "d620c7b8-9a0b-4b3a-a34e-93ab40c9dd59"
      },
      "execution_count": 3,
      "outputs": [
        {
          "output_type": "stream",
          "name": "stdout",
          "text": [
            "Downloading data from https://storage.googleapis.com/tensorflow/tf-keras-datasets/mnist.npz\n",
            "\u001b[1m11490434/11490434\u001b[0m \u001b[32m━━━━━━━━━━━━━━━━━━━━\u001b[0m\u001b[37m\u001b[0m \u001b[1m0s\u001b[0m 0us/step\n"
          ]
        }
      ]
    },
    {
      "cell_type": "code",
      "source": [
        "train_images = train_images.reshape(train_images.shape[0], 28, 28, 1).astype('float32') # definindo o tamanho da imagem (28x28) com 1 canal de cinza / astype para ocupar menos espaço na memória\n",
        "train_images = (train_images - 127.5) / 127.5 # normalizando a imagem para -1, 1"
      ],
      "metadata": {
        "id": "B6t1IaEVQqnq"
      },
      "execution_count": 4,
      "outputs": []
    },
    {
      "cell_type": "code",
      "source": [
        "BUFFER_SIZE = 60000 # tamanho do conjunto de dados, volume de processamento das imagens\n",
        "BATCH_SIZE = 256 # quantidade de pixels que varia, numero de pixels aceitos"
      ],
      "metadata": {
        "id": "i1VaC8JkQuIi"
      },
      "execution_count": 5,
      "outputs": []
    },
    {
      "cell_type": "code",
      "source": [
        "train_dataset = tf.data.Dataset.from_tensor_slices(train_images).shuffle(BUFFER_SIZE).batch(BATCH_SIZE) #conjunto de dados + batch para normalizar os pixels"
      ],
      "metadata": {
        "id": "7P8rlZrpQxsW"
      },
      "execution_count": 6,
      "outputs": []
    },
    {
      "cell_type": "code",
      "source": [
        "def make_generator_model():\n",
        "  model = tf.keras.Sequential()\n",
        "  model.add(layers.Dense(7*7*256, use_bias=False, input_shape=(100,))) # entrada de um ruído randomico (a primeira imagem vai ter a profundidade 256 de 7*7)\n",
        "  model.add(layers.BatchNormalization()) # técnica que normaliza (z-score) os pesos de uma camada para a próxima camada # limita os valores em um máximo e um mínimo (ajuda a ficar com um valor estável)\n",
        "  model.add(layers.LeakyReLU())          # função de ativação onde os valores negativos sejam transmitidos (atribui um valor pequeno para aproximar o valor à 0), considera os valores negativos\n",
        "\n",
        "  model.add(layers.Reshape((7,7,256))) #para deixar no formato de imagem\n",
        "  assert model.output_shape == (None, 7, 7, 256) # None é o batch size\n",
        "\n",
        "  #Conv2DTranspose: camada de convolução para aumentar a imagem #padding aplicar bordas de zeros para ajudar a aumentar a imagem\n",
        "  model.add(layers.Conv2DTranspose(128,(5, 5), strides=(1,1), padding='same', use_bias=False))\n",
        "  assert model.output_shape == (None, 7, 7, 128)\n",
        "  model.add(layers.BatchNormalization())\n",
        "  model.add(layers.LeakyReLU())\n",
        "\n",
        "  model.add(layers.Conv2DTranspose(64,(5, 5), strides=(2,2), padding='same', use_bias=False))\n",
        "  assert model.output_shape == (None, 14, 14, 64)\n",
        "  model.add(layers.BatchNormalization())\n",
        "  model.add(layers.LeakyReLU())\n",
        "\n",
        "  model.add(layers.Conv2DTranspose(1,(5, 5), strides=(2,2), padding='same', use_bias=False, activation='tanh')) #imagem final da imagem gerada canal 1\n",
        "  assert model.output_shape == (None, 28, 28, 1)\n",
        "\n",
        "  return model"
      ],
      "metadata": {
        "id": "rcJGk4luQ08s"
      },
      "execution_count": 9,
      "outputs": []
    },
    {
      "cell_type": "code",
      "source": [
        "\n",
        "generator = make_generator_model()\n",
        "\n",
        "noise = tf.random.normal([1, 100]) #ruído aleatório\n",
        "generator_image = generator(noise, training=False) # entrada inicial\n",
        "\n",
        "plt.imshow(generator_image[0, :, :, 0], cmap='gray')"
      ],
      "metadata": {
        "colab": {
          "base_uri": "https://localhost:8080/",
          "height": 502
        },
        "id": "BpsobB-MSSui",
        "outputId": "6900418f-bcb8-4221-eed9-5742993557b3"
      },
      "execution_count": 10,
      "outputs": [
        {
          "output_type": "stream",
          "name": "stderr",
          "text": [
            "/usr/local/lib/python3.10/dist-packages/keras/src/layers/core/dense.py:87: UserWarning: Do not pass an `input_shape`/`input_dim` argument to a layer. When using Sequential models, prefer using an `Input(shape)` object as the first layer in the model instead.\n",
            "  super().__init__(activity_regularizer=activity_regularizer, **kwargs)\n"
          ]
        },
        {
          "output_type": "execute_result",
          "data": {
            "text/plain": [
              "<matplotlib.image.AxesImage at 0x7f9118825330>"
            ]
          },
          "metadata": {},
          "execution_count": 10
        },
        {
          "output_type": "display_data",
          "data": {
            "text/plain": [
              "<Figure size 640x480 with 1 Axes>"
            ],
            "image/png": "[encoded data removed]"
          },
          "metadata": {}
        }
      ]
    },
    {
      "cell_type": "code",
      "source": [
        "def make_discriminator_model():\n",
        "  model = tf.keras.Sequential()\n",
        "  model.add(layers.Conv2D(64, (5, 5), strides=(2,2), padding='same', input_shape=[28,28,1]))\n",
        "  model.add(layers.LeakyReLU())\n",
        "  model.add(layers.Dropout(0.3))\n",
        "\n",
        "  model.add(layers.Conv2D(128, (5, 5), strides=(2,2), padding='same'))\n",
        "  model.add(layers.LeakyReLU())\n",
        "  model.add(layers.Dropout(0.3))\n",
        "\n",
        "  model.add(layers.Flatten())\n",
        "  model.add(layers.Dense(1))\n",
        "\n",
        "  return model\n",
        "\n",
        "  #comparar com imagens reais"
      ],
      "metadata": {
        "id": "70WUdh_WTRJK"
      },
      "execution_count": 11,
      "outputs": []
    },
    {
      "cell_type": "code",
      "source": [
        "discriminator = make_discriminator_model()\n",
        "decision = discriminator(generator_image) # valor positivo, imagem real. Valor negativo, imagem fake.\n",
        "print(decision)"
      ],
      "metadata": {
        "colab": {
          "base_uri": "https://localhost:8080/"
        },
        "id": "e7CHZLFVTcoh",
        "outputId": "3926668b-59af-477f-f515-725b335fd898"
      },
      "execution_count": 12,
      "outputs": [
        {
          "output_type": "stream",
          "name": "stdout",
          "text": [
            "tf.Tensor([[3.3361983e-05]], shape=(1, 1), dtype=float32)\n"
          ]
        },
        {
          "output_type": "stream",
          "name": "stderr",
          "text": [
            "/usr/local/lib/python3.10/dist-packages/keras/src/layers/convolutional/base_conv.py:107: UserWarning: Do not pass an `input_shape`/`input_dim` argument to a layer. When using Sequential models, prefer using an `Input(shape)` object as the first layer in the model instead.\n",
            "  super().__init__(activity_regularizer=activity_regularizer, **kwargs)\n"
          ]
        }
      ]
    },
    {
      "cell_type": "code",
      "source": [
        "\n",
        "# configurando a função de custo (loss function)\n",
        "\n",
        "cross_entropy = tf.keras.losses.BinaryCrossentropy(from_logits=False) # crio uma função loss (para 0 e 1, mais prox de 1 é real)"
      ],
      "metadata": {
        "id": "gOqKCff7Tt0K"
      },
      "execution_count": 13,
      "outputs": []
    },
    {
      "cell_type": "code",
      "source": [
        "def discriminator_loss(real_output, fake_output):\n",
        "  real_loss = cross_entropy(tf.ones_like(real_output), real_output) # dado real # 1 verdadeiro\n",
        "  fake_loss = cross_entropy(tf.zeros_like(fake_output), fake_output) # dado fake # 0 falso\n",
        "  total_loss = real_loss + fake_loss # faz a comparação\n",
        "  return total_loss"
      ],
      "metadata": {
        "id": "F8ZJWwaCT4j0"
      },
      "execution_count": 14,
      "outputs": []
    },
    {
      "cell_type": "code",
      "source": [
        "# avaliar fake gerado\n",
        "def generator_loss(fake_output):\n",
        "  return cross_entropy(tf.ones_like(fake_output ), fake_output) # dado fake apenas"
      ],
      "metadata": {
        "id": "PjLBVlgFT8m-"
      },
      "execution_count": 15,
      "outputs": []
    },
    {
      "cell_type": "code",
      "source": [
        "# definindo o otimizador da função de custo Adam\n",
        "generator_optimizer = tf.keras.optimizers.Adam(1e-4)\n",
        "discriminator_optimizer = tf.keras.optimizers.Adam(1e-4)"
      ],
      "metadata": {
        "id": "ED26wjmdUZzH"
      },
      "execution_count": 16,
      "outputs": []
    },
    {
      "cell_type": "code",
      "source": [
        "# para salvar o modelo\n",
        "checkpoint_dir = './training_checkpoints' #diretório para salvar pontos específicos de rede\n",
        "checkpoint_prefix = os.path.join(checkpoint_dir, \"ckpt\")\n",
        "checkpoint = tf.train.Checkpoint(generator_optimizer=generator_optimizer,\n",
        "                               discriminator_optimizer=discriminator_optimizer,\n",
        "                                generator=generator,\n",
        "                                discriminator=discriminator)"
      ],
      "metadata": {
        "id": "Bc6CqutnUcC8"
      },
      "execution_count": 17,
      "outputs": []
    },
    {
      "cell_type": "code",
      "source": [
        "EPOCHS = 35\n",
        "noise_dim = 100\n",
        "num_examples_to_generate = 16\n",
        "seed = tf.random.normal([num_examples_to_generate, noise_dim])"
      ],
      "metadata": {
        "id": "9qN1UWE_UiIv"
      },
      "execution_count": 18,
      "outputs": []
    },
    {
      "cell_type": "code",
      "source": [
        "@tf.function\n",
        "def train_step(images):\n",
        "    # Gerando ruído aleatório para a entrada do gerador\n",
        "    noise = tf.random.normal([BATCH_SIZE, noise_dim])\n",
        "\n",
        "    # Usando GradientTape para registrar as operações para o cálculo do gradiente\n",
        "    with tf.GradientTape() as gen_tape, tf.GradientTape() as disc_tape:\n",
        "        # Gerando imagens usando o gerador\n",
        "        generated_images = generator(noise, training=True)\n",
        "\n",
        "        # Calculando as saídas reais e falsas usando o discriminador\n",
        "        real_output = discriminator(images, training=True)\n",
        "        fake_output = discriminator(generated_images, training=True)\n",
        "\n",
        "        # Calculando as perdas do gerador e do discriminador\n",
        "        gen_loss = generator_loss(fake_output)\n",
        "        disc_loss = discriminator_loss(real_output, fake_output)\n",
        "\n",
        "    # Calculando os gradientes em relação aos parâmetros do gerador e do discriminador\n",
        "    gradients_of_generator = gen_tape.gradient(gen_loss, generator.trainable_variables)\n",
        "    gradients_of_discriminator = disc_tape.gradient(disc_loss, discriminator.trainable_variables)\n",
        "\n",
        "    # Aplicando os gradientes usando otimizadores separados para gerador e discriminador\n",
        "    generator_optimizer.apply_gradients(zip(gradients_of_generator, generator.trainable_variables))\n",
        "    discriminator_optimizer.apply_gradients(zip(gradients_of_discriminator, discriminator.trainable_variables))"
      ],
      "metadata": {
        "id": "aijXteGUUlrY"
      },
      "execution_count": 19,
      "outputs": []
    },
    {
      "cell_type": "code",
      "source": [
        "def train(dataset, epochs):\n",
        "  # Itera sobre o número especificado de épocas\n",
        "  for epoch in range(epochs):\n",
        "    start = time.time()  # Marca o início do tempo para esta época\n",
        "\n",
        "    # Itera sobre os lotes de imagens no conjunto de dados\n",
        "    for image_batch in dataset:\n",
        "      train_step(image_batch)  # Chama a função de treinamento definida anteriormente para um lote de imagens\n",
        "\n",
        "    # Produz imagens para o GIF enquanto treina\n",
        "    display.clear_output(wait=True)\n",
        "    generate_and_save_images(generator, epoch + 1, seed)\n",
        "\n",
        "    # Salva o modelo a cada 15 épocas\n",
        "    if (epoch + 1) % 15 == 0:\n",
        "      checkpoint.save(file_prefix=checkpoint_prefix)\n",
        "\n",
        "    # Imprime o tempo decorrido para a época atual\n",
        "    print('Time for epoch {} is {} sec'.format(epoch + 1, time.time()-start))\n",
        "\n",
        "  # Gera e salva imagens após a última época\n",
        "  display.clear_output(wait=True)\n",
        "  generate_and_save_images(generator, epochs, seed)"
      ],
      "metadata": {
        "id": "DLNz0HiHUpE6"
      },
      "execution_count": 20,
      "outputs": []
    },
    {
      "cell_type": "code",
      "source": [
        "# Função para gerar e salvar imagens usando o modelo treinado\n",
        "\n",
        "def generate_and_save_images(model, epoch, test_input):\n",
        "  # Observação: `training` é definido como False.\n",
        "  # Isso é para que todas as camadas funcionem no modo de inferência (batchnorm).\n",
        "  predictions = model(test_input, training=False)  # Modo de treinamento False para o gerador criar as imagens\n",
        "\n",
        "  # Configuração da figura para exibir as imagens geradas\n",
        "  fig = plt.figure(figsize=(4, 4))\n",
        "\n",
        "  # Itera sobre as previsões geradas\n",
        "  for i in range(predictions.shape[0]):\n",
        "      plt.subplot(4, 4, i+1)\n",
        "      # Ajusta a escala e exibe a imagem gerada\n",
        "      plt.imshow(predictions[i, :, :, 0] * 127.5 + 127.5, cmap='gray')\n",
        "      plt.axis('off')  # Desliga as coordenadas do eixo\n",
        "\n",
        "  # Salva a imagem gerada\n",
        "  plt.savefig('image_at_epoch_{:04d}.png'.format(epoch))\n",
        "  plt.show()  # Exibe a imagem gerada no momento"
      ],
      "metadata": {
        "id": "hCgI9sWcUsR9"
      },
      "execution_count": 21,
      "outputs": []
    },
    {
      "cell_type": "code",
      "source": [
        "train(train_dataset, EPOCHS)"
      ],
      "metadata": {
        "id": "OcZ4iiesVDvT"
      },
      "execution_count": null,
      "outputs": []
    },
    {
      "cell_type": "code",
      "source": [],
      "metadata": {
        "id": "k5hanbC2VPI3"
      },
      "execution_count": null,
      "outputs": []
    }
  ]
}
import pandas as pd
from sklearn.model_selection import train_test_split
import os
import numpy as np
import matplotlib as mpl
import matplotlib.pyplot as plt
from sklearn.model_selection import StratifiedShuffleSplit


dataset = pd.read_csv(r"C:\Users\vntprni\Downloads\housing.csv")
dataset.head()

np.random.seed(42)
#os para trabalhar com a base de dados

# mpl.rc('axes', labelsize=14)
# mpl.rc('xtick', labelsize=12)
# mpl.rc('ytick', labelsize=12)

# dataset.shape
# dataset.info()

# set(dataset["ocean_proximity"])
# dataset['ocean_proximity'].value_counts()

#traz minimos e máximos, médias, desvio padrão...
# dataset.describe()
# dataset.hist(bins=50, figsize=(20,15))

df_train, df_test = train_test_split(dataset, test_size=0.2, random_state= 7)
print(len(df_train), "treinamento +", len(df_test), "teste")

dataset['median_income'].hist()
dataset["income_cat"] = np.ceil(dataset["median_income"]/ 1.5)
dataset["income_cat"].where(dataset["income_cat"] < 5, 5.0, inplace=True)
dataset["income_cat"] = pd.cut(dataset["median_income"],
                               bins=[0., 1.5, 3.0, 4.5, 6., np.inf],
                               labels=[1,2,3,4,5])
dataset["income_cat"].value_counts()
dataset["income_cat"].hist()

split = StratifiedShuffleSplit(n_splits=1, test_size=0.2, random_state=42)
for train_index, test_index in split.split(dataset, dataset["income_cat"]):
    strat_train_set = dataset.loc[train_index]
    strat_test_set = dataset.loc[test_index]

strat_test_set["income_cat"].value_counts() / len(strat_test_set)
strat_train_set["income_cat"].value_counts() / len(strat_train_set)
strat_train_set["income_cat"].value_counts() / len(dataset)

for set_ in (strat_train_set, strat_test_set):
    set_.drop("income_cat", axis=1, inplace=True)

housing = strat_train_set.copy()

housing.plot(kind="scatter", x="longitude", y="latitude")
